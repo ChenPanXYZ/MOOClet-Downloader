{
 "cells": [
  {
   "cell_type": "code",
   "execution_count": 1,
   "metadata": {},
   "outputs": [],
   "source": [
    "mooclet_names = []\n",
    "with open('list_of_mooclet_names.txt') as f:\n",
    "    lines = f.readlines()\n",
    "    mooclet_names = [line.rstrip('\\n') for line in lines]"
   ]
  },
  {
   "cell_type": "code",
   "execution_count": 20,
   "metadata": {},
   "outputs": [
    {
     "name": "stdout",
     "output_type": "stream",
     "text": [
      "Long Prompt Rationale Prototype 2\n"
     ]
    },
    {
     "name": "stderr",
     "output_type": "stream",
     "text": [
      "/tmp/ipykernel_1863/3016173492.py:6: DtypeWarning: Columns (5,7) have mixed types. Specify dtype option on import or set low_memory=False.\n",
      "  df = pd.read_csv(f'datasets/{mooclet_name}.csv').dropna(subset=['reward_time'])\n"
     ]
    },
    {
     "data": {
      "text/html": [
       "<div>\n",
       "<style scoped>\n",
       "    .dataframe tbody tr th:only-of-type {\n",
       "        vertical-align: middle;\n",
       "    }\n",
       "\n",
       "    .dataframe tbody tr th {\n",
       "        vertical-align: top;\n",
       "    }\n",
       "\n",
       "    .dataframe thead th {\n",
       "        text-align: right;\n",
       "    }\n",
       "</style>\n",
       "<table border=\"1\" class=\"dataframe\">\n",
       "  <thead>\n",
       "    <tr style=\"text-align: right;\">\n",
       "      <th></th>\n",
       "      <th>mooclet</th>\n",
       "      <th>max_diff_hrs</th>\n",
       "      <th>mean_diff_hrs</th>\n",
       "      <th>25%_quantile_diff_hrs</th>\n",
       "      <th>75%_quantile_diff_hrs</th>\n",
       "    </tr>\n",
       "  </thead>\n",
       "  <tbody>\n",
       "    <tr>\n",
       "      <th>0</th>\n",
       "      <td>Long Prompt Rationale Prototype 2</td>\n",
       "      <td>4344.482155</td>\n",
       "      <td>52.962585</td>\n",
       "      <td>8.96341</td>\n",
       "      <td>23.252104</td>\n",
       "    </tr>\n",
       "  </tbody>\n",
       "</table>\n",
       "</div>"
      ],
      "text/plain": [
       "                             mooclet  max_diff_hrs  mean_diff_hrs   \n",
       "0  Long Prompt Rationale Prototype 2   4344.482155      52.962585  \\\n",
       "\n",
       "   25%_quantile_diff_hrs  75%_quantile_diff_hrs  \n",
       "0                8.96341              23.252104  "
      ]
     },
     "execution_count": 20,
     "metadata": {},
     "output_type": "execute_result"
    }
   ],
   "source": [
    "import numpy as np\n",
    "import pandas as pd\n",
    "result = []\n",
    "for mooclet_name in mooclet_names:\n",
    "    print(mooclet_name)\n",
    "    df = pd.read_csv(f'datasets/{mooclet_name}.csv').dropna(subset=['reward_time'])\n",
    "    df['reward_time'] = pd.to_datetime(df['reward_time'])\n",
    "    df['arm_time'] = pd.to_datetime(df['arm_time'])\n",
    "    df['diff'] = (df['reward_time'] - df['arm_time']).dt.total_seconds() / 3600\n",
    "    result.append(\n",
    "        {\n",
    "            \"mooclet\": mooclet_name, \n",
    "            \"max_diff_hrs\": max(df['diff']),\n",
    "            \"mean_diff_hrs\": np.mean(df['diff']), \n",
    "            \"25%_quantile_diff_hrs\": df['diff'].quantile(0.25),\n",
    "            \"75%_quantile_diff_hrs\": df['diff'].quantile(0.75)\n",
    "        }\n",
    "    )\n",
    "\n",
    "df = pd.DataFrame(data = result)\n",
    "df"
   ]
  }
 ],
 "metadata": {
  "kernelspec": {
   "display_name": "base",
   "language": "python",
   "name": "python3"
  },
  "language_info": {
   "codemirror_mode": {
    "name": "ipython",
    "version": 3
   },
   "file_extension": ".py",
   "mimetype": "text/x-python",
   "name": "python",
   "nbconvert_exporter": "python",
   "pygments_lexer": "ipython3",
   "version": "3.10.11"
  },
  "orig_nbformat": 4
 },
 "nbformat": 4,
 "nbformat_minor": 2
}
